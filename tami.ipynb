{
 "cells": [
  {
   "cell_type": "code",
   "execution_count": 4,
   "metadata": {},
   "outputs": [
    {
     "name": "stdout",
     "output_type": "stream",
     "text": [
      "É Fibonacci\n"
     ]
    }
   ],
   "source": [
    "\"\"\"1) Dado a sequência de Fibonacci, onde se inicia por 0 e 1 \n",
    "e o próximo valor sempre será a soma dos 2 valores anteriores \n",
    "(exemplo: 0, 1, 1, 2, 3, 5, 8, 13, 21, 34...), \n",
    "\n",
    "escreva um programa na linguagem que desejar onde, informado \n",
    "um número, ele calcule a sequência de Fibonacci e retorne uma \n",
    "mensagem avisando se o número informado pertence ou não a \n",
    "sequência.\n",
    "\"\"\"\n",
    "\n",
    "\n",
    "def verifica_fibonacci(numero):\n",
    "    numero_anterior = 0\n",
    "    numero_atual = 1\n",
    "    \n",
    "    if numero == 0 or numero == 1:\n",
    "        return 'É Fibonacci'\n",
    "    \n",
    "    while True:\n",
    "        numero_fibonacci = numero_anterior + numero_atual\n",
    "        if numero_fibonacci == numero:\n",
    "            return 'É Fibonacci'\n",
    "        elif numero_fibonacci > numero:\n",
    "            return 'Não é Fibonacci'\n",
    "        \n",
    "        numero_anterior = numero_atual\n",
    "        numero_atual = numero_fibonacci\n",
    "\n",
    "numero = int(input(\"Digite um número inteiro: \"))\n",
    "print(verifica_fibonacci(numero))\n"
   ]
  },
  {
   "cell_type": "code",
   "execution_count": 10,
   "metadata": {},
   "outputs": [
    {
     "name": "stdout",
     "output_type": "stream",
     "text": [
      "Não há letra \"a\" nessa palávra\n"
     ]
    }
   ],
   "source": [
    "\"\"\"2) Escreva um programa que verifique, em uma string, a \n",
    "existência da letra \"a\", seja maiúscula ou minúscula, além \n",
    "de informar a quantidade de vezes em que ela ocorre.\n",
    "\"\"\"\n",
    "\n",
    "palavra = input(\"Digite uma palavra: \")\n",
    "\n",
    "def contador_de_letra_a(palavra):\n",
    "        \n",
    "    if 'a' in palavra.lower():\n",
    "        contador_de_a = 0\n",
    "        for letra in palavra:\n",
    "            if letra == 'a':\n",
    "                contador_de_a +=1\n",
    "        return contador_de_a\n",
    "    else:\n",
    "        return 'Não há letra \"a\" nessa palávra'\n",
    "\n",
    "print(contador_de_letra_a(palavra))\n",
    "\n"
   ]
  },
  {
   "cell_type": "code",
   "execution_count": 11,
   "metadata": {},
   "outputs": [
    {
     "name": "stdout",
     "output_type": "stream",
     "text": [
      "77\n"
     ]
    }
   ],
   "source": [
    "\"\"\"3) Observe o trecho de código abaixo: int INDICE = 12, \n",
    "SOMA = 0, K = 1; enquanto K < INDICE faça \n",
    "{ K = K + 1; SOMA = SOMA + K; } imprimir(SOMA);\n",
    "\"\"\"\n",
    "def questao():\n",
    "    indice = 12\n",
    "    soma = 0\n",
    "    k = 1\n",
    "    while k < indice:\n",
    "        k += 1\n",
    "        soma += k\n",
    "    print(soma)\n",
    "\n",
    "questao() # Soma dá 77"
   ]
  },
  {
   "cell_type": "code",
   "execution_count": 33,
   "metadata": {},
   "outputs": [
    {
     "name": "stdout",
     "output_type": "stream",
     "text": [
      "Collecting num2words\n",
      "  Obtaining dependency information for num2words from https://files.pythonhosted.org/packages/8f/f0/ca1228af2bcbce2fdf2b23d58643c84253b88a3c1cd9dba391ca683c4b21/num2words-0.5.13-py3-none-any.whl.metadata\n",
      "  Downloading num2words-0.5.13-py3-none-any.whl.metadata (12 kB)\n",
      "Collecting docopt>=0.6.2 (from num2words)\n",
      "  Downloading docopt-0.6.2.tar.gz (25 kB)\n",
      "  Installing build dependencies ... \u001b[?25ldone\n",
      "\u001b[?25h  Getting requirements to build wheel ... \u001b[?25ldone\n",
      "\u001b[?25h  Preparing metadata (pyproject.toml) ... \u001b[?25ldone\n",
      "\u001b[?25hDownloading num2words-0.5.13-py3-none-any.whl (143 kB)\n",
      "\u001b[2K   \u001b[90m━━━━━━━━━━━━━━━━━━━━━━━━━━━━━━━━━━━━━━━━\u001b[0m \u001b[32m143.3/143.3 kB\u001b[0m \u001b[31m2.1 MB/s\u001b[0m eta \u001b[36m0:00:00\u001b[0m \u001b[36m0:00:01\u001b[0m\n",
      "\u001b[?25hBuilding wheels for collected packages: docopt\n",
      "  Building wheel for docopt (pyproject.toml) ... \u001b[?25ldone\n",
      "\u001b[?25h  Created wheel for docopt: filename=docopt-0.6.2-py2.py3-none-any.whl size=13706 sha256=85c82bc3fc0c932e75f5118a081c6a99311545a8be63a3f113f8e7a21164e833\n",
      "  Stored in directory: /home/wesley/.cache/pip/wheels/1a/bf/a1/4cee4f7678c68c5875ca89eaccf460593539805c3906722228\n",
      "Successfully built docopt\n",
      "Installing collected packages: docopt, num2words\n",
      "Successfully installed docopt-0.6.2 num2words-0.5.13\n",
      "\n",
      "\u001b[1m[\u001b[0m\u001b[34;49mnotice\u001b[0m\u001b[1;39;49m]\u001b[0m\u001b[39;49m A new release of pip is available: \u001b[0m\u001b[31;49m23.2.1\u001b[0m\u001b[39;49m -> \u001b[0m\u001b[32;49m24.2\u001b[0m\n",
      "\u001b[1m[\u001b[0m\u001b[34;49mnotice\u001b[0m\u001b[1;39;49m]\u001b[0m\u001b[39;49m To update, run: \u001b[0m\u001b[32;49mpip install --upgrade pip\u001b[0m\n",
      "Note: you may need to restart the kernel to use updated packages.\n"
     ]
    }
   ],
   "source": [
    "pip install num2words\n"
   ]
  },
  {
   "cell_type": "code",
   "execution_count": 35,
   "metadata": {},
   "outputs": [
    {
     "name": "stdout",
     "output_type": "stream",
     "text": [
      "[1, 3, 5, 7, 9]\n",
      "[2, 4, 8, 16, 32, 64, 128]\n",
      "[0, 1, 4, 9, 16, 25, 36]\n",
      "[4, 16, 36, 64, 100]\n",
      "[1, 1, 2, 3, 5, 8, 13]\n",
      "[2, 10, 12, 16, 17, 18, 19, 200]\n"
     ]
    }
   ],
   "source": [
    "\"\"\"4) Descubra a lógica e complete o próximo elemento:\n",
    "a) 1, 3, 5, 7, ___\n",
    "b) 2, 4, 8, 16, 32, 64, ____\n",
    "c) 0, 1, 4, 9, 16, 25, 36, ____\n",
    "d) 4, 16, 36, 64, ____\n",
    "e) 1, 1, 2, 3, 5, 8, ____\n",
    "f) 2,10, 12, 16, 17, 18, 19, ____\"\"\"\n",
    "\n",
    "def a():\n",
    "    lista = []\n",
    "    num = 1\n",
    "    for i in range(1,6):\n",
    "        lista.append(num)\n",
    "        num += 2\n",
    "    print(lista)\n",
    "a()\n",
    "def b():\n",
    "    lista = []\n",
    "    num = 2\n",
    "    for i in range(7):\n",
    "        lista.append(num)\n",
    "        num *= 2\n",
    "    print(lista)\n",
    "b()\n",
    "def c():\n",
    "    lista = []\n",
    "    for i in range(7):  \n",
    "        lista.append(i**2)\n",
    "    print(lista)\n",
    "c()\n",
    "def d():\n",
    "    lista = []\n",
    "    for i in range(1,6):  \n",
    "        lista.append((i * 2) ** 2)  \n",
    "    print(lista)\n",
    "d()\n",
    "def e():\n",
    "    lista = [1, 1]\n",
    "    for i in range(2, 7):\n",
    "        lista.append(lista[i - 1] + lista[i - 2])  \n",
    "    print(lista)\n",
    "e()\n",
    "\n",
    "def d(max_num):\n",
    "    from num2words import num2words\n",
    "    numeros_d = []\n",
    "    for i in range(1, max_num + 1):\n",
    "        extenso = num2words(i, lang='pt')\n",
    "        if extenso[0].lower() == 'd':  \n",
    "            numeros_d.append(i)\n",
    "    return numeros_d\n",
    "\n",
    "lista_numeros_com_d = d(200)\n",
    "print(lista_numeros_com_d)\n",
    "\n",
    "\n"
   ]
  },
  {
   "cell_type": "code",
   "execution_count": 36,
   "metadata": {},
   "outputs": [
    {
     "ename": "SyntaxError",
     "evalue": "invalid syntax (1383612318.py, line 10)",
     "output_type": "error",
     "traceback": [
      "\u001b[0;36m  Cell \u001b[0;32mIn[36], line 10\u001b[0;36m\u001b[0m\n\u001b[0;31m    Liguaria o primeiro interruptor A e deixaria ligado por um tempo.\u001b[0m\n\u001b[0m             ^\u001b[0m\n\u001b[0;31mSyntaxError\u001b[0m\u001b[0;31m:\u001b[0m invalid syntax\n"
     ]
    }
   ],
   "source": [
    "\n",
    "\"\"\"5) Você está em uma sala com três interruptores, cada um conectado \n",
    "a uma lâmpada em salas diferentes. Você não pode ver as lâmpadas da \n",
    "sala em que está, mas pode ligar e desligar os interruptores quantas \n",
    "vezes quiser. \n",
    "Seu objetivo é descobrir qual interruptor controla qual lâmpada. \n",
    "Como você faria para descobrir, usando apenas duas idas até uma \n",
    "das salas das lâmpadas, qual interruptor controla cada lâmpada? \"\"\"\n",
    "\n",
    "\n",
    "# Liguaria o primeiro interruptor A e deixaria ligado por um tempo.\n",
    "# Após alguns minutos, desliguaria o primeiro interruptor A e ligaria o segundo interruptor B imediatamente.\n",
    "# Depois iria nas lâmpadas e verificaria que:\n",
    "#     - A lâmpada que estiver acesa está conectada ao interruptor B\n",
    "#     - A lâmpada que estiver apagada e quente está conectada ao interruptor A\n",
    "#     - A lâmpada que estiver apagada e fria está conectada ao interruptor C "
   ]
  },
  {
   "cell_type": "code",
   "execution_count": null,
   "metadata": {},
   "outputs": [],
   "source": []
  }
 ],
 "metadata": {
  "kernelspec": {
   "display_name": "Python 3",
   "language": "python",
   "name": "python3"
  },
  "language_info": {
   "codemirror_mode": {
    "name": "ipython",
    "version": 3
   },
   "file_extension": ".py",
   "mimetype": "text/x-python",
   "name": "python",
   "nbconvert_exporter": "python",
   "pygments_lexer": "ipython3",
   "version": "3.12.0"
  }
 },
 "nbformat": 4,
 "nbformat_minor": 2
}
